{
 "cells": [
  {
   "cell_type": "markdown",
   "id": "cd3a85f9",
   "metadata": {},
   "source": [
    "# What is Lambda Server?\n",
    "\n",
    "The faculty HPC server cluster is composed of a gateway server, lambda, into which you log in with SSH, and five compute nodes lambda1-5 which run the actual computations. The gateway server is relatively weak and has no attached GPUs, so it should not be used for running computations."
   ]
  },
  {
   "cell_type": "markdown",
   "id": "61190edf",
   "metadata": {},
   "source": [
    "## Connect to Technion Network - VPN"
   ]
  },
  {
   "cell_type": "markdown",
   "id": "60b8e14c",
   "metadata": {},
   "source": [
    "As usual"
   ]
  },
  {
   "cell_type": "markdown",
   "id": "9b8bc884",
   "metadata": {},
   "source": [
    "## Connect to Lambda Server"
   ]
  },
  {
   "cell_type": "markdown",
   "id": "a0896a6d",
   "metadata": {},
   "source": [
    "Connect using a simple SSH:\n",
    "    \n",
    "**ssh -X user_name@lambda.cs.technion.ac.il**\n",
    "    \n",
    "Notes:\n",
    "1. Username is your @campus.technion.ac.il username\n",
    "2. Password is the same as the one for the account.\n",
    "3. If host name is not recognized can use IP address: 132.68.39.159."
   ]
  },
  {
   "cell_type": "markdown",
   "id": "2961c243",
   "metadata": {},
   "source": [
    "Recommended GUI app is Bitvise SSH Client.\n",
    "\n",
    "Link - https://cswp.cs.technion.ac.il/bitvise-ssh-client-installation-setup/"
   ]
  },
  {
   "cell_type": "code",
   "execution_count": 2,
   "id": "019d28e2",
   "metadata": {},
   "outputs": [
    {
     "data": {
      "text/html": [
       "<img src=\"bitvise_client.png\" alt=\"Your Image\" style=\"width:500px;height:300px;\">"
      ],
      "text/plain": [
       "<IPython.core.display.HTML object>"
      ]
     },
     "execution_count": 2,
     "metadata": {},
     "output_type": "execute_result"
    }
   ],
   "source": [
    "from IPython.display import HTML\n",
    "HTML('<img src=\"bitvise_client.png\" alt=\"Your Image\" style=\"width:500px;height:300px;\">')"
   ]
  },
  {
   "cell_type": "markdown",
   "id": "b2b9ce09",
   "metadata": {},
   "source": [
    "## Install required packages"
   ]
  },
  {
   "cell_type": "markdown",
   "id": "0b4f3e1c",
   "metadata": {},
   "source": [
    "### install miniconda:\n",
    "cd ~\n",
    "wget https://repo.anaconda.com/miniconda/Miniconda3-latest-Linux-x86_64.sh \n",
    "sh Miniconda3-latest-Linux-x86_64.sh"
   ]
  },
  {
   "cell_type": "markdown",
   "id": "6172be9a",
   "metadata": {},
   "source": [
    "### Create a link to the conda binary\n",
    "ln miniconda3/bin/conda .local/bin/conda"
   ]
  },
  {
   "cell_type": "markdown",
   "id": "177da0bd",
   "metadata": {},
   "source": [
    "### Install cuda:\n",
    "conda create --name tf23-gpu python=3.8\n",
    "conda activate tf23-gpu\n",
    "\n",
    "If you get a \"conda init must be [...] try restarting your terminal\" or a similar message while running this line.\n",
    "\n",
    "You need to restart your terminal. If you're working with bitvise, just close and reopen the terminal window. \n",
    "\n",
    "Otherwise, reconnect to lambda. After that, try running the line again."
   ]
  },
  {
   "cell_type": "raw",
   "id": "05edc159",
   "metadata": {},
   "source": [
    "conda install -c anaconda cudatoolkit=10.1\n",
    "conda install -c anaconda cudnn\n",
    "conda install pip\n",
    "conda install numba\n",
    "pip install tensorflow-gpu==2.3"
   ]
  },
  {
   "cell_type": "markdown",
   "id": "7e528eaa",
   "metadata": {},
   "source": [
    "## Running Script"
   ]
  },
  {
   "cell_type": "markdown",
   "id": "8da3a997",
   "metadata": {},
   "source": [
    "For example, we want to run the following script:"
   ]
  },
  {
   "cell_type": "code",
   "execution_count": null,
   "id": "453fc60a",
   "metadata": {},
   "outputs": [],
   "source": [
    "# script begin\n",
    "\n",
    "from numba import cuda\n",
    "import numpy\n",
    "\n",
    "@cuda.jit\n",
    "def my_kernel(io_array):\n",
    "    # Thread id in a 1D block\n",
    "    tx = cuda.threadIdx.x\n",
    "    # Block id in a 1D grid\n",
    "    bx = cuda.blockIdx.x\n",
    "    # Block width, i.e. number of threads per block\n",
    "    bw = cuda.blockDim.x\n",
    "    # Compute flattened index inside the array\n",
    "    pos = tx + bx * bw\n",
    "    if pos < io_array.size:  # Check array boundaries\n",
    "        io_array[pos] *= 2 # do the computation\n",
    "\n",
    "\n",
    "# Create the data array - usually initialized some other way\n",
    "data = numpy.ones(256)\n",
    "\n",
    "data_send = cuda.to_device(data)\n",
    "\n",
    "# Set the number of threads in a block\n",
    "threadsperblock = 32\n",
    "\n",
    "# Calculate the number of thread blocks in the grid\n",
    "blockspergrid = (data.size + (threadsperblock - 1)) // threadsperblock\n",
    "\n",
    "# Now start the kernel\n",
    "my_kernel[blockspergrid, threadsperblock](data_send)\n",
    "\n",
    "data = data_send.copy_to_host()\n",
    "\n",
    "# Print the result\n",
    "print(data)\n",
    "\n",
    "# script end"
   ]
  },
  {
   "cell_type": "markdown",
   "id": "c56a593c",
   "metadata": {},
   "source": [
    "**Make sure the env is active:**"
   ]
  },
  {
   "cell_type": "raw",
   "id": "1afe6475",
   "metadata": {},
   "source": [
    "Your prompt should look like this: \n",
    "(tf23-gpu) [username]@lambda:~$.\n",
    "\n",
    "# If it doesn't, run:\n",
    "conda activate tf23-gpu"
   ]
  },
  {
   "cell_type": "markdown",
   "id": "38d2a0b8",
   "metadata": {},
   "source": [
    "### Run the script:\n",
    "\n",
    "srun --gres=gpu:1 -c 2 --pty python3 script.py\n",
    "\n",
    "--gres=gpu:1 - number of GPU - 2\n",
    "-c 2 - number of cores - 1"
   ]
  },
  {
   "cell_type": "markdown",
   "id": "5e03b9fd",
   "metadata": {},
   "source": [
    "More info about different ways to run on Lambda server can be found in the following link:\n",
    "\n",
    "https://vistalab-technion.github.io/cs236781/assignments/hpc-servers"
   ]
  }
 ],
 "metadata": {
  "kernelspec": {
   "display_name": "Python 3 (ipykernel)",
   "language": "python",
   "name": "python3"
  },
  "language_info": {
   "codemirror_mode": {
    "name": "ipython",
    "version": 3
   },
   "file_extension": ".py",
   "mimetype": "text/x-python",
   "name": "python",
   "nbconvert_exporter": "python",
   "pygments_lexer": "ipython3",
   "version": "3.11.5"
  }
 },
 "nbformat": 4,
 "nbformat_minor": 5
}
